{
 "cells": [
  {
   "cell_type": "code",
   "execution_count": 4,
   "metadata": {},
   "outputs": [],
   "source": [
    "import numpy as np"
   ]
  },
  {
   "cell_type": "code",
   "execution_count": 10,
   "metadata": {},
   "outputs": [
    {
     "name": "stdout",
     "output_type": "stream",
     "text": [
      "[[1 2 3 4 5]]\n"
     ]
    }
   ],
   "source": [
    "# creating arrays using numpy\n",
    "#  a 1 D array\n",
    "arr1 = np.array([1,2,3,4,5])\n",
    "arr2 = arr1.reshape(1,5)\n",
    "print(arr2)"
   ]
  },
  {
   "cell_type": "code",
   "execution_count": 34,
   "metadata": {},
   "outputs": [
    {
     "data": {
      "text/plain": [
       "array([[4, 5],\n",
       "       [2, 4]])"
      ]
     },
     "execution_count": 34,
     "metadata": {},
     "output_type": "execute_result"
    }
   ],
   "source": [
    "a1 = np.array([[1,2,3,4,5], [3,4,3,2,4],[3,4,2,6,7]])\n",
    "a1[:2,3:]\n"
   ]
  },
  {
   "cell_type": "code",
   "execution_count": 38,
   "metadata": {},
   "outputs": [],
   "source": [
    "import pandas as pd"
   ]
  },
  {
   "cell_type": "code",
   "execution_count": 42,
   "metadata": {},
   "outputs": [
    {
     "name": "stdout",
     "output_type": "stream",
     "text": [
      "   number letter  number2\n",
      "0       1      a        6\n",
      "1       2      b        7\n",
      "2       3      c        8\n",
      "3       4      d        9\n",
      "4       5      e       10\n"
     ]
    }
   ],
   "source": [
    "data = {'number': [1,2,3,4,5],\n",
    "        'letter': ['a','b','c','d','e'],\n",
    "        'number2': [6,7,8,9,10],\n",
    "        }\n",
    "dataframe = pd.DataFrame(data)\n",
    "print(dataframe)\n"
   ]
  },
  {
   "cell_type": "code",
   "execution_count": 43,
   "metadata": {},
   "outputs": [
    {
     "name": "stdout",
     "output_type": "stream",
     "text": [
      "       name   age\n",
      "0     vishu  18.0\n",
      "1       avi  14.0\n",
      "2    anshul  38.0\n",
      "3  akanksha  14.0\n",
      "4        Ip  23.0\n",
      "5    sanika   NaN\n"
     ]
    }
   ],
   "source": [
    "data = [{\"name\": \"vishu\", \"age\":18},\n",
    "        {\"name\": \"avi\", \"age\":14},\n",
    "        {\"name\": \"anshul\", \"age\":38},\n",
    "        {\"name\": \"akanksha\", \"age\":14},\n",
    "        {\"name\": \"Ip\", \"age\":23},\n",
    "        {\"name\": \"sanika\"}\n",
    "        ]\n",
    "df = pd.DataFrame(data)\n",
    "print(df)"
   ]
  },
  {
   "cell_type": "code",
   "execution_count": 73,
   "metadata": {},
   "outputs": [
    {
     "data": {
      "text/html": [
       "<div>\n",
       "<style scoped>\n",
       "    .dataframe tbody tr th:only-of-type {\n",
       "        vertical-align: middle;\n",
       "    }\n",
       "\n",
       "    .dataframe tbody tr th {\n",
       "        vertical-align: top;\n",
       "    }\n",
       "\n",
       "    .dataframe thead th {\n",
       "        text-align: right;\n",
       "    }\n",
       "</style>\n",
       "<table border=\"1\" class=\"dataframe\">\n",
       "  <thead>\n",
       "    <tr style=\"text-align: right;\">\n",
       "      <th></th>\n",
       "      <th>month_number</th>\n",
       "      <th>facecream</th>\n",
       "      <th>facewash</th>\n",
       "      <th>toothpaste</th>\n",
       "      <th>bathingsoap</th>\n",
       "      <th>shampoo</th>\n",
       "      <th>moisturizer</th>\n",
       "      <th>total_units</th>\n",
       "      <th>total_profit</th>\n",
       "    </tr>\n",
       "  </thead>\n",
       "  <tbody>\n",
       "    <tr>\n",
       "      <th>0</th>\n",
       "      <td>1</td>\n",
       "      <td>2500</td>\n",
       "      <td>1500</td>\n",
       "      <td>5200</td>\n",
       "      <td>9200</td>\n",
       "      <td>1200</td>\n",
       "      <td>1500</td>\n",
       "      <td>21100</td>\n",
       "      <td>211000</td>\n",
       "    </tr>\n",
       "    <tr>\n",
       "      <th>1</th>\n",
       "      <td>2</td>\n",
       "      <td>2630</td>\n",
       "      <td>1200</td>\n",
       "      <td>5100</td>\n",
       "      <td>6100</td>\n",
       "      <td>2100</td>\n",
       "      <td>1200</td>\n",
       "      <td>18330</td>\n",
       "      <td>183300</td>\n",
       "    </tr>\n",
       "    <tr>\n",
       "      <th>2</th>\n",
       "      <td>3</td>\n",
       "      <td>2140</td>\n",
       "      <td>1340</td>\n",
       "      <td>4550</td>\n",
       "      <td>9550</td>\n",
       "      <td>3550</td>\n",
       "      <td>1340</td>\n",
       "      <td>22470</td>\n",
       "      <td>224700</td>\n",
       "    </tr>\n",
       "    <tr>\n",
       "      <th>3</th>\n",
       "      <td>4</td>\n",
       "      <td>3400</td>\n",
       "      <td>1130</td>\n",
       "      <td>5870</td>\n",
       "      <td>8870</td>\n",
       "      <td>1870</td>\n",
       "      <td>1130</td>\n",
       "      <td>22270</td>\n",
       "      <td>222700</td>\n",
       "    </tr>\n",
       "    <tr>\n",
       "      <th>4</th>\n",
       "      <td>5</td>\n",
       "      <td>3600</td>\n",
       "      <td>1740</td>\n",
       "      <td>4560</td>\n",
       "      <td>7760</td>\n",
       "      <td>1560</td>\n",
       "      <td>1740</td>\n",
       "      <td>20960</td>\n",
       "      <td>209600</td>\n",
       "    </tr>\n",
       "  </tbody>\n",
       "</table>\n",
       "</div>"
      ],
      "text/plain": [
       "   month_number  facecream  facewash  toothpaste  bathingsoap  shampoo  \\\n",
       "0             1       2500      1500        5200         9200     1200   \n",
       "1             2       2630      1200        5100         6100     2100   \n",
       "2             3       2140      1340        4550         9550     3550   \n",
       "3             4       3400      1130        5870         8870     1870   \n",
       "4             5       3600      1740        4560         7760     1560   \n",
       "\n",
       "   moisturizer  total_units  total_profit  \n",
       "0         1500        21100        211000  \n",
       "1         1200        18330        183300  \n",
       "2         1340        22470        224700  \n",
       "3         1130        22270        222700  \n",
       "4         1740        20960        209600  "
      ]
     },
     "execution_count": 73,
     "metadata": {},
     "output_type": "execute_result"
    }
   ],
   "source": [
    "df = pd.read_csv('sales_data.csv')\n",
    "df.head(5)"
   ]
  },
  {
   "cell_type": "code",
   "execution_count": 63,
   "metadata": {},
   "outputs": [
    {
     "name": "stderr",
     "output_type": "stream",
     "text": [
      "/var/folders/mm/s0c3yqgs78g6vqxrjb2t33jc0000gn/T/ipykernel_7907/980023098.py:4: FutureWarning: Series.__getitem__ treating keys as positions is deprecated. In a future version, integer keys will always be treated as labels (consistent with DataFrame behavior). To access a value by position, use `ser.iloc[pos]`\n",
      "  df.iloc[0][4]  #specifically working for any index\n"
     ]
    },
    {
     "data": {
      "text/plain": [
       "np.int64(1340)"
      ]
     },
     "execution_count": 63,
     "metadata": {},
     "output_type": "execute_result"
    }
   ],
   "source": [
    "# accesing data from data frame\n",
    "# df['facewash']\n",
    "df.loc[0]   # to print the index'th Row\n",
    "df.iloc[0][4]  #specifically working for any index\n",
    "df.at[2, \"bathingsoap\"]\n",
    "df.iat[2,2]\n"
   ]
  },
  {
   "cell_type": "code",
   "execution_count": 74,
   "metadata": {},
   "outputs": [],
   "source": [
    "# adding a column\n",
    "# df['new column'] = 0\n",
    "# df.at[5, 'new column']\n"
   ]
  },
  {
   "cell_type": "code",
   "execution_count": 77,
   "metadata": {},
   "outputs": [
    {
     "data": {
      "text/html": [
       "<div>\n",
       "<style scoped>\n",
       "    .dataframe tbody tr th:only-of-type {\n",
       "        vertical-align: middle;\n",
       "    }\n",
       "\n",
       "    .dataframe tbody tr th {\n",
       "        vertical-align: top;\n",
       "    }\n",
       "\n",
       "    .dataframe thead th {\n",
       "        text-align: right;\n",
       "    }\n",
       "</style>\n",
       "<table border=\"1\" class=\"dataframe\">\n",
       "  <thead>\n",
       "    <tr style=\"text-align: right;\">\n",
       "      <th></th>\n",
       "      <th>month_number</th>\n",
       "      <th>facecream</th>\n",
       "      <th>facewash</th>\n",
       "      <th>toothpaste</th>\n",
       "      <th>bathingsoap</th>\n",
       "      <th>shampoo</th>\n",
       "      <th>moisturizer</th>\n",
       "      <th>total_units</th>\n",
       "      <th>total_profit</th>\n",
       "    </tr>\n",
       "  </thead>\n",
       "  <tbody>\n",
       "    <tr>\n",
       "      <th>count</th>\n",
       "      <td>12.000000</td>\n",
       "      <td>12.000000</td>\n",
       "      <td>12.000000</td>\n",
       "      <td>12.000000</td>\n",
       "      <td>12.000000</td>\n",
       "      <td>12.000000</td>\n",
       "      <td>12.000000</td>\n",
       "      <td>12.00000</td>\n",
       "      <td>12.000000</td>\n",
       "    </tr>\n",
       "    <tr>\n",
       "      <th>mean</th>\n",
       "      <td>6.500000</td>\n",
       "      <td>2873.333333</td>\n",
       "      <td>1542.916667</td>\n",
       "      <td>5825.833333</td>\n",
       "      <td>9500.833333</td>\n",
       "      <td>2117.500000</td>\n",
       "      <td>1542.916667</td>\n",
       "      <td>26027.50000</td>\n",
       "      <td>260275.000000</td>\n",
       "    </tr>\n",
       "    <tr>\n",
       "      <th>std</th>\n",
       "      <td>3.605551</td>\n",
       "      <td>584.595172</td>\n",
       "      <td>316.733745</td>\n",
       "      <td>1242.032486</td>\n",
       "      <td>2348.095779</td>\n",
       "      <td>617.724931</td>\n",
       "      <td>316.733745</td>\n",
       "      <td>7014.36594</td>\n",
       "      <td>70143.659404</td>\n",
       "    </tr>\n",
       "    <tr>\n",
       "      <th>min</th>\n",
       "      <td>1.000000</td>\n",
       "      <td>1990.000000</td>\n",
       "      <td>1120.000000</td>\n",
       "      <td>4550.000000</td>\n",
       "      <td>6100.000000</td>\n",
       "      <td>1200.000000</td>\n",
       "      <td>1120.000000</td>\n",
       "      <td>18330.00000</td>\n",
       "      <td>183300.000000</td>\n",
       "    </tr>\n",
       "    <tr>\n",
       "      <th>25%</th>\n",
       "      <td>3.750000</td>\n",
       "      <td>2460.000000</td>\n",
       "      <td>1305.000000</td>\n",
       "      <td>4862.500000</td>\n",
       "      <td>8015.000000</td>\n",
       "      <td>1795.000000</td>\n",
       "      <td>1305.000000</td>\n",
       "      <td>21065.00000</td>\n",
       "      <td>210650.000000</td>\n",
       "    </tr>\n",
       "    <tr>\n",
       "      <th>50%</th>\n",
       "      <td>6.500000</td>\n",
       "      <td>2830.000000</td>\n",
       "      <td>1527.500000</td>\n",
       "      <td>5530.000000</td>\n",
       "      <td>9090.000000</td>\n",
       "      <td>1995.000000</td>\n",
       "      <td>1527.500000</td>\n",
       "      <td>22935.00000</td>\n",
       "      <td>229350.000000</td>\n",
       "    </tr>\n",
       "    <tr>\n",
       "      <th>75%</th>\n",
       "      <td>9.250000</td>\n",
       "      <td>3435.000000</td>\n",
       "      <td>1765.000000</td>\n",
       "      <td>6400.000000</td>\n",
       "      <td>10045.000000</td>\n",
       "      <td>2325.000000</td>\n",
       "      <td>1765.000000</td>\n",
       "      <td>29667.50000</td>\n",
       "      <td>296675.000000</td>\n",
       "    </tr>\n",
       "    <tr>\n",
       "      <th>max</th>\n",
       "      <td>12.000000</td>\n",
       "      <td>3700.000000</td>\n",
       "      <td>2100.000000</td>\n",
       "      <td>8300.000000</td>\n",
       "      <td>14400.000000</td>\n",
       "      <td>3550.000000</td>\n",
       "      <td>2100.000000</td>\n",
       "      <td>41280.00000</td>\n",
       "      <td>412800.000000</td>\n",
       "    </tr>\n",
       "  </tbody>\n",
       "</table>\n",
       "</div>"
      ],
      "text/plain": [
       "       month_number    facecream     facewash   toothpaste   bathingsoap  \\\n",
       "count     12.000000    12.000000    12.000000    12.000000     12.000000   \n",
       "mean       6.500000  2873.333333  1542.916667  5825.833333   9500.833333   \n",
       "std        3.605551   584.595172   316.733745  1242.032486   2348.095779   \n",
       "min        1.000000  1990.000000  1120.000000  4550.000000   6100.000000   \n",
       "25%        3.750000  2460.000000  1305.000000  4862.500000   8015.000000   \n",
       "50%        6.500000  2830.000000  1527.500000  5530.000000   9090.000000   \n",
       "75%        9.250000  3435.000000  1765.000000  6400.000000  10045.000000   \n",
       "max       12.000000  3700.000000  2100.000000  8300.000000  14400.000000   \n",
       "\n",
       "           shampoo  moisturizer  total_units   total_profit  \n",
       "count    12.000000    12.000000     12.00000      12.000000  \n",
       "mean   2117.500000  1542.916667  26027.50000  260275.000000  \n",
       "std     617.724931   316.733745   7014.36594   70143.659404  \n",
       "min    1200.000000  1120.000000  18330.00000  183300.000000  \n",
       "25%    1795.000000  1305.000000  21065.00000  210650.000000  \n",
       "50%    1995.000000  1527.500000  22935.00000  229350.000000  \n",
       "75%    2325.000000  1765.000000  29667.50000  296675.000000  \n",
       "max    3550.000000  2100.000000  41280.00000  412800.000000  "
      ]
     },
     "execution_count": 77,
     "metadata": {},
     "output_type": "execute_result"
    }
   ],
   "source": [
    "df.describe()  #gives the statistical summary of data"
   ]
  }
 ],
 "metadata": {
  "kernelspec": {
   "display_name": "Python 3",
   "language": "python",
   "name": "python3"
  },
  "language_info": {
   "codemirror_mode": {
    "name": "ipython",
    "version": 3
   },
   "file_extension": ".py",
   "mimetype": "text/x-python",
   "name": "python",
   "nbconvert_exporter": "python",
   "pygments_lexer": "ipython3",
   "version": "3.12.4"
  }
 },
 "nbformat": 4,
 "nbformat_minor": 2
}
